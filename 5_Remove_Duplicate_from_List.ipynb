{
 "cells": [
  {
   "cell_type": "markdown",
   "metadata": {},
   "source": [
    "# Remove Duplicate From List"
   ]
  },
  {
   "cell_type": "markdown",
   "metadata": {},
   "source": [
    "Tutorial By **Tech Blooded**"
   ]
  },
  {
   "cell_type": "code",
   "execution_count": 1,
   "metadata": {},
   "outputs": [
    {
     "name": "stdout",
     "output_type": "stream",
     "text": [
      "[1, 2, 3, 4, 5, 60, 76]\n"
     ]
    }
   ],
   "source": [
    "# take a first list\n",
    "a = [1,2,3,3,4,4,4,5,60,60,76]\n",
    "\n",
    "# declare empty list to store unique values\n",
    "b = []\n",
    "\n",
    "# take elements from first list one by one\n",
    "for i in a:\n",
    "    \n",
    "    \n",
    "    # check that element in second list or not.\n",
    "    if i not in b:\n",
    "        b.append(i)  # if not the append it to second list\n",
    "    else:\n",
    "        continue\n",
    "        \n",
    "\n",
    "# print the second list \n",
    "print(b)"
   ]
  },
  {
   "cell_type": "code",
   "execution_count": null,
   "metadata": {},
   "outputs": [],
   "source": []
  }
 ],
 "metadata": {
  "kernelspec": {
   "display_name": "Python 3",
   "language": "python",
   "name": "python3"
  },
  "language_info": {
   "codemirror_mode": {
    "name": "ipython",
    "version": 3
   },
   "file_extension": ".py",
   "mimetype": "text/x-python",
   "name": "python",
   "nbconvert_exporter": "python",
   "pygments_lexer": "ipython3",
   "version": "3.8.3"
  }
 },
 "nbformat": 4,
 "nbformat_minor": 4
}
