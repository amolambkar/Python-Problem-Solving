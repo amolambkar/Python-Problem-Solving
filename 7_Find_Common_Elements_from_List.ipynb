{
 "cells": [
  {
   "cell_type": "markdown",
   "metadata": {},
   "source": [
    "# Find Common Elements from Lists"
   ]
  },
  {
   "cell_type": "markdown",
   "metadata": {},
   "source": [
    "Tutorial By **Tech Blooded**"
   ]
  },
  {
   "cell_type": "code",
   "execution_count": 1,
   "metadata": {},
   "outputs": [
    {
     "name": "stdout",
     "output_type": "stream",
     "text": [
      "[5, 6, 7, 8]\n"
     ]
    }
   ],
   "source": [
    "# take two lists\n",
    "a = [1,2,3,4,5,6,7,8]\n",
    "b = [5,6,7,8,9,0,10,11,12]\n",
    "\n",
    "# declare empty list (common) to store common elements\n",
    "common = []\n",
    "\n",
    "# take elements from first list one by one using for loop\n",
    "for i in a:\n",
    "    if i in b:\n",
    "        common.append(i)\n",
    "\n",
    "        # compare element of first list with all elements of second list.\n",
    "        # add common element to the common list\n",
    "print(common)\n",
    "\n",
    "# print common elements"
   ]
  },
  {
   "cell_type": "markdown",
   "metadata": {},
   "source": [
    "# Thank You"
   ]
  }
 ],
 "metadata": {
  "kernelspec": {
   "display_name": "Python 3",
   "language": "python",
   "name": "python3"
  },
  "language_info": {
   "codemirror_mode": {
    "name": "ipython",
    "version": 3
   },
   "file_extension": ".py",
   "mimetype": "text/x-python",
   "name": "python",
   "nbconvert_exporter": "python",
   "pygments_lexer": "ipython3",
   "version": "3.8.3"
  }
 },
 "nbformat": 4,
 "nbformat_minor": 4
}
